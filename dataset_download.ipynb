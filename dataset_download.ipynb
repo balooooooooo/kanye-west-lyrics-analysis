{
 "cells": [
  {
   "cell_type": "markdown",
   "source": [
    "# Generating & preprocessing the dataset"
   ],
   "metadata": {
    "collapsed": false
   }
  },
  {
   "cell_type": "code",
   "execution_count": 4,
   "metadata": {
    "collapsed": true,
    "ExecuteTime": {
     "start_time": "2023-06-10T20:46:53.835461Z",
     "end_time": "2023-06-10T20:46:53.862163Z"
    }
   },
   "outputs": [],
   "source": [
    "from  lyricsgenius import Genius\n",
    "import re\n",
    "import json\n",
    "\n",
    "\n",
    "with open(\"config.json\", \"r\") as file:\n",
    "    key = json.load(file)\n",
    "\n",
    "genius = Genius(key[\"key\"], timeout=50)\n",
    "genius.remove_section_headers = True # this removes section headers such as \"Chorus\", \"Verse 1\", etc.\n",
    "\n",
    "album_list = [\"The College Dropout\", \"Late Registration\", \"Graduation\", \"808s & Heartbreak\", \"My Beautiful Dark Twisted Fantasy\", \"Yeezus\",\n",
    "              \"The Life of Pablo\", \"Ye\", \"Jesus Is King\", \"Donda\", \"Kids See Ghosts\", \"Watch The Throne\"] #List of Kanye Wests albums, collaboration albums included\n",
    "\n",
    "song_lyrics = {}"
   ]
  },
  {
   "cell_type": "code",
   "execution_count": 5,
   "outputs": [],
   "source": [
    "def get_album_songs(album_name):\n",
    "    \"\"\"Method to extract lyrics for each song from Ye's albums.\"\"\"\n",
    "    album_songs = genius.search_album(album_name, artist=\"Kanye West\", text_format=True, get_full_info=True)\n",
    "    for track in album_songs.tracks:\n",
    "        # First line of of each song's lyrics begins with information about contributors to lyrics, we want to filter that out\n",
    "        lyrics = re.sub(r\"^.*\\n*\",\"\",track.song.lyrics)\n",
    "        # Last line of lyrics ends with a *number*Embed artifact, we want to remove that\n",
    "        lyrics = re.sub(r\"\\d*Embed\",\"\",lyrics)\n",
    "        lyrics = re.sub(r\"You might also like\",\"\",lyrics)\n",
    "        lyrics = lyrics.strip()\n",
    "        # append song name, album name and lyrics of the song to a dictionary\n",
    "        if lyrics and \"skit\" not in track.song.title.lower():\n",
    "            song_lyrics[track.song.title] = {\"album\": album_name,\n",
    "                                         \"lyrics\": lyrics}"
   ],
   "metadata": {
    "collapsed": false,
    "ExecuteTime": {
     "start_time": "2023-06-10T20:46:53.858172Z",
     "end_time": "2023-06-10T20:46:53.870998Z"
    }
   }
  },
  {
   "cell_type": "code",
   "execution_count": 6,
   "outputs": [
    {
     "name": "stdout",
     "output_type": "stream",
     "text": [
      "Searching for \"The College Dropout\" by Kanye West...\n",
      "Searching for \"Late Registration\" by Kanye West...\n",
      "Searching for \"Graduation\" by Kanye West...\n",
      "Searching for \"808s & Heartbreak\" by Kanye West...\n",
      "Searching for \"My Beautiful Dark Twisted Fantasy\" by Kanye West...\n",
      "Searching for \"Yeezus\" by Kanye West...\n",
      "Searching for \"The Life of Pablo\" by Kanye West...\n",
      "Searching for \"Ye\" by Kanye West...\n",
      "Searching for \"Jesus Is King\" by Kanye West...\n",
      "Searching for \"Donda\" by Kanye West...\n",
      "Searching for \"Kids See Ghosts\" by Kanye West...\n",
      "Searching for \"Watch The Throne\" by Kanye West...\n"
     ]
    }
   ],
   "source": [
    "for album in album_list: # iterate through all the albums and generate the dataset\n",
    "    get_album_songs(album)"
   ],
   "metadata": {
    "collapsed": false,
    "ExecuteTime": {
     "start_time": "2023-06-10T20:46:53.872945Z",
     "end_time": "2023-06-10T20:49:36.658472Z"
    }
   }
  },
  {
   "cell_type": "code",
   "execution_count": 7,
   "outputs": [],
   "source": [
    "with open(\"data/songs.json\", \"w+\", encoding=\"UTF-8\") as file: # dump the lyrics dictionary into a json file\n",
    "    json.dump(song_lyrics,file, indent=4, ensure_ascii=False)\n",
    "\n"
   ],
   "metadata": {
    "collapsed": false,
    "ExecuteTime": {
     "start_time": "2023-06-10T20:49:36.660545Z",
     "end_time": "2023-06-10T20:49:36.673398Z"
    }
   }
  },
  {
   "cell_type": "markdown",
   "source": [],
   "metadata": {
    "collapsed": false
   }
  },
  {
   "cell_type": "markdown",
   "source": [],
   "metadata": {
    "collapsed": false
   }
  }
 ],
 "metadata": {
  "kernelspec": {
   "display_name": "Python 3",
   "language": "python",
   "name": "python3"
  },
  "language_info": {
   "codemirror_mode": {
    "name": "ipython",
    "version": 2
   },
   "file_extension": ".py",
   "mimetype": "text/x-python",
   "name": "python",
   "nbconvert_exporter": "python",
   "pygments_lexer": "ipython2",
   "version": "2.7.6"
  }
 },
 "nbformat": 4,
 "nbformat_minor": 0
}
